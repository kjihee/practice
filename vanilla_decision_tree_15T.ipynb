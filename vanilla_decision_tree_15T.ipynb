{
 "cells": [
  {
   "cell_type": "markdown",
   "metadata": {},
   "source": [
    "## Data processing"
   ]
  },
  {
   "cell_type": "code",
   "execution_count": 2,
   "metadata": {},
   "outputs": [],
   "source": [
    "%matplotlib inline\n",
    "import matplotlib.pyplot as plt\n",
    "import tensorflow as tf\n",
    "import numpy as np\n",
    "import pandas as pd\n",
    "import os\n",
    "from sklearn.preprocessing import MinMaxScaler"
   ]
  },
  {
   "cell_type": "code",
   "execution_count": 3,
   "metadata": {},
   "outputs": [],
   "source": [
    "from tensorflow.python.keras.models import Sequential\n",
    "from tensorflow.python.keras.layers import Input, Dense, GRU, Embedding\n",
    "from tensorflow.python.keras.optimizers import RMSprop\n",
    "from tensorflow.python.keras.callbacks import EarlyStopping, ModelCheckpoint, TensorBoard, ReduceLROnPlateau"
   ]
  },
  {
   "cell_type": "code",
   "execution_count": 4,
   "metadata": {},
   "outputs": [],
   "source": [
    "df=pd.read_pickle('/home/centos/data/typed_all_v1_2.pkl')\n",
    "del df['licenseInfo.drmSystem']"
   ]
  },
  {
   "cell_type": "markdown",
   "metadata": {},
   "source": [
    "### remove data 'timestamp' == 0"
   ]
  },
  {
   "cell_type": "code",
   "execution_count": 5,
   "metadata": {},
   "outputs": [],
   "source": [
    "df = df[df['timestamp']!=0]"
   ]
  },
  {
   "cell_type": "code",
   "execution_count": 6,
   "metadata": {},
   "outputs": [],
   "source": [
    "df['timestamp'] = pd.to_datetime(df['timestamp'], unit='s')\n",
    "df.index = df['timestamp']\n",
    "del df['timestamp']"
   ]
  },
  {
   "cell_type": "code",
   "execution_count": 7,
   "metadata": {},
   "outputs": [],
   "source": [
    "df = df.sort_index()"
   ]
  },
  {
   "cell_type": "markdown",
   "metadata": {},
   "source": [
    "### error code 종류와 빈도수 "
   ]
  },
  {
   "cell_type": "code",
   "execution_count": 8,
   "metadata": {
    "scrolled": true
   },
   "outputs": [
    {
     "data": {
      "text/plain": [
       " 0.000000e+00    17861\n",
       "-1.007020e+05      440\n",
       "-3.800000e+01      238\n",
       "-2.005000e+03       38\n",
       "-1.004000e+03       37\n",
       "-1.002000e+03       22\n",
       "-1.008700e+05       14\n",
       "-1.008740e+05        7\n",
       "-1.008590e+05        3\n",
       "-1.200000e+01        1\n",
       "-1.014160e+05        1\n",
       "-2.147484e+09        1\n",
       "Name: errorCode, dtype: int64"
      ]
     },
     "execution_count": 8,
     "metadata": {},
     "output_type": "execute_result"
    }
   ],
   "source": [
    "df['errorCode'].value_counts()"
   ]
  },
  {
   "cell_type": "markdown",
   "metadata": {},
   "source": [
    "### errorcode==0,networkErrors == 0 , mnc == 10 제거 -> 시간별 최빈값으로 resampling하려고할때 이 값들이 모두 대표값이 되어버림"
   ]
  },
  {
   "cell_type": "code",
   "execution_count": 9,
   "metadata": {},
   "outputs": [],
   "source": [
    "df_errors = df[df['errorCode']!=0.0]\n",
    "df_networkErrors = df[df['networkErrors']!=0.0]\n",
    "df_mnc = df[df['networkInfo.carrier.mnc']!= '10']"
   ]
  },
  {
   "cell_type": "code",
   "execution_count": 10,
   "metadata": {},
   "outputs": [
    {
     "data": {
      "text/plain": [
       "timestamp\n",
       "2018-11-06 02:14:03    51\n",
       "2018-11-06 02:15:04    50\n",
       "2018-11-06 02:19:40    51\n",
       "2018-11-06 02:19:54    51\n",
       "2018-11-06 02:20:25    51\n",
       "2018-11-06 02:20:35    51\n",
       "2018-11-06 02:20:39    51\n",
       "2018-11-06 02:21:19    51\n",
       "2018-11-06 02:24:28    51\n",
       "2018-11-06 02:24:45    51\n",
       "2018-11-06 02:25:46    50\n",
       "2018-11-06 02:28:25    51\n",
       "2018-11-06 02:29:36    20\n",
       "2018-11-06 02:30:01    51\n",
       "2018-11-06 02:30:46    51\n",
       "2018-11-06 02:31:17    20\n",
       "2018-11-06 02:31:59     0\n",
       "2018-11-06 02:35:30    51\n",
       "2018-11-06 02:36:12    51\n",
       "2018-11-06 02:36:38    51\n",
       "2018-11-06 02:38:20    51\n",
       "2018-11-06 02:41:24    51\n",
       "2018-11-06 02:43:20    51\n",
       "2018-11-06 02:49:02    51\n",
       "2018-11-06 02:49:21    20\n",
       "2018-11-06 02:50:17    20\n",
       "2018-11-06 02:50:20    20\n",
       "2018-11-06 02:50:27    20\n",
       "2018-11-06 02:51:10    51\n",
       "2018-11-06 02:52:20    20\n",
       "                       ..\n",
       "2018-11-07 23:21:46    20\n",
       "2018-11-07 23:23:28    20\n",
       "2018-11-07 23:27:26    51\n",
       "2018-11-07 23:28:06    51\n",
       "2018-11-07 23:29:47    51\n",
       "2018-11-07 23:30:01    20\n",
       "2018-11-07 23:34:03    51\n",
       "2018-11-07 23:34:35    51\n",
       "2018-11-07 23:35:56    20\n",
       "2018-11-07 23:36:05    51\n",
       "2018-11-07 23:37:23    20\n",
       "2018-11-07 23:39:17    20\n",
       "2018-11-07 23:40:15    51\n",
       "2018-11-07 23:41:52    20\n",
       "2018-11-07 23:42:01    20\n",
       "2018-11-07 23:43:41    20\n",
       "2018-11-07 23:44:04    20\n",
       "2018-11-07 23:44:28    51\n",
       "2018-11-07 23:45:08    20\n",
       "2018-11-07 23:45:28    20\n",
       "2018-11-07 23:45:48    20\n",
       "2018-11-07 23:45:51    51\n",
       "2018-11-07 23:50:17    51\n",
       "2018-11-07 23:52:00    51\n",
       "2018-11-07 23:52:36    51\n",
       "2018-11-07 23:53:31    51\n",
       "2018-11-07 23:57:06    20\n",
       "2018-11-07 23:57:37    20\n",
       "2018-11-07 23:58:31    51\n",
       "2018-11-08 00:00:12    51\n",
       "Name: networkInfo.carrier.mnc, Length: 2755, dtype: category\n",
       "Categories (8, object): [0, 10, 20, 456, 50, 51, 7, 8]"
      ]
     },
     "execution_count": 10,
     "metadata": {},
     "output_type": "execute_result"
    }
   ],
   "source": [
    "df_mnc['networkInfo.carrier.mnc']"
   ]
  },
  {
   "cell_type": "markdown",
   "metadata": {},
   "source": [
    "### 15분 단위로 grouping 하고 그 시간의 mean값을 대표값으로 저장(numeric value)"
   ]
  },
  {
   "cell_type": "code",
   "execution_count": 11,
   "metadata": {},
   "outputs": [],
   "source": [
    "numeric_mean_value=df.groupby(pd.Grouper(freq='15T') ).mean()"
   ]
  },
  {
   "cell_type": "markdown",
   "metadata": {},
   "source": [
    "### 15분 단위로 grouping 하고 그 시간의 최빈값을 대표값으로 저장( categorical value)"
   ]
  },
  {
   "cell_type": "code",
   "execution_count": 12,
   "metadata": {},
   "outputs": [],
   "source": [
    "top_errorCode=df_errors['errorCode'].groupby(pd.Grouper(freq='15T') ).describe().top\n",
    "top_networkErrors=df_networkErrors['networkErrors'].groupby(pd.Grouper(freq='15T') ).describe().top\n",
    "top_mnc=df_mnc['networkInfo.carrier.mnc'].groupby(pd.Grouper(freq='15T') ).describe().top\n",
    "top_networkType=df['networkInfo.type'].groupby(pd.Grouper(freq='15T') ).describe().top\n",
    "top_contentType=df['content_type'].groupby(pd.Grouper(freq='15T') ).describe().top\n",
    "top_device=df['device'].groupby(pd.Grouper(freq='15T') ).describe().top\n"
   ]
  },
  {
   "cell_type": "markdown",
   "metadata": {},
   "source": [
    "### 15분치 데이터 대표값으로 resampling"
   ]
  },
  {
   "cell_type": "code",
   "execution_count": 13,
   "metadata": {},
   "outputs": [],
   "source": [
    "result=pd.concat([numeric_mean_value, top_contentType, top_device, top_errorCode, top_networkErrors, top_mnc, top_networkType], axis=1, sort=False)"
   ]
  },
  {
   "cell_type": "code",
   "execution_count": 14,
   "metadata": {},
   "outputs": [],
   "source": [
    "result.columns = ['estimatedBandwidth', 'fragmentSum.bitrate', 'fragmentSum.downloadTime',\n",
    "       'fragmentSum.duration', 'fragmentSum.fragmentIndex', 'fragmentSum.size',\n",
    "       'frameDropped', 'licenseInfo.elapsedTime', 'maxDecodingTime',\n",
    "       'position', 'qualityChangedCount', 'bufferingTime', 'avgDecodingTime',\n",
    "       'bufferedDuration', 'currentPosition', 'top_contentType', 'top_device', 'top_errorCode', 'top_networkErrors', 'top_mnc', 'top_networkType']"
   ]
  },
  {
   "cell_type": "markdown",
   "metadata": {},
   "source": [
    "### 15분동안 가장 많이 발생한 한 값(e.g. errorCode == 0) 들을 원래값 (0)으로 채운다 -> 이래도 되나?"
   ]
  },
  {
   "cell_type": "code",
   "execution_count": 15,
   "metadata": {},
   "outputs": [],
   "source": [
    "result.top_errorCode = result.top_errorCode.fillna(0)\n",
    "result.top_networkErrors=result.top_networkErrors.fillna(0)"
   ]
  },
  {
   "cell_type": "code",
   "execution_count": 16,
   "metadata": {},
   "outputs": [
    {
     "data": {
      "text/plain": [
       "estimatedBandwidth           float64\n",
       "fragmentSum.bitrate          float64\n",
       "fragmentSum.downloadTime     float64\n",
       "fragmentSum.duration         float64\n",
       "fragmentSum.fragmentIndex    float64\n",
       "fragmentSum.size             float64\n",
       "frameDropped                 float64\n",
       "licenseInfo.elapsedTime      float64\n",
       "maxDecodingTime              float64\n",
       "position                     float64\n",
       "qualityChangedCount          float64\n",
       "bufferingTime                float64\n",
       "avgDecodingTime              float64\n",
       "bufferedDuration             float64\n",
       "currentPosition              float64\n",
       "top_contentType                int64\n",
       "top_device                     int64\n",
       "top_errorCode                float64\n",
       "top_networkErrors            float64\n",
       "top_mnc                       object\n",
       "top_networkType                int64\n",
       "dtype: object"
      ]
     },
     "execution_count": 16,
     "metadata": {},
     "output_type": "execute_result"
    }
   ],
   "source": [
    "result.dtypes"
   ]
  },
  {
   "cell_type": "code",
   "execution_count": 17,
   "metadata": {},
   "outputs": [],
   "source": [
    "result.top_contentType = result.top_contentType.astype('float64')\n",
    "result.top_device = result.top_device.astype('float64')\n",
    "result.top_networkType = result.top_networkType.astype('float64')\n",
    "result.top_mnc = result.top_mnc.astype('float64')"
   ]
  },
  {
   "cell_type": "markdown",
   "metadata": {},
   "source": [
    "### x, y data 할당"
   ]
  },
  {
   "cell_type": "code",
   "execution_count": 18,
   "metadata": {},
   "outputs": [],
   "source": [
    "y_data=result.top_errorCode.values\n",
    "del result['top_errorCode']\n",
    "x_data = result.values"
   ]
  },
  {
   "cell_type": "code",
   "execution_count": 19,
   "metadata": {},
   "outputs": [
    {
     "data": {
      "text/plain": [
       "(185, 20)"
      ]
     },
     "execution_count": 19,
     "metadata": {},
     "output_type": "execute_result"
    }
   ],
   "source": [
    "x_data.shape"
   ]
  },
  {
   "cell_type": "code",
   "execution_count": 20,
   "metadata": {},
   "outputs": [],
   "source": [
    "y_data = y_data.reshape(185,1)"
   ]
  },
  {
   "cell_type": "code",
   "execution_count": 21,
   "metadata": {},
   "outputs": [
    {
     "data": {
      "text/plain": [
       "estimatedBandwidth           float64\n",
       "fragmentSum.bitrate          float64\n",
       "fragmentSum.downloadTime     float64\n",
       "fragmentSum.duration         float64\n",
       "fragmentSum.fragmentIndex    float64\n",
       "fragmentSum.size             float64\n",
       "frameDropped                 float64\n",
       "licenseInfo.elapsedTime      float64\n",
       "maxDecodingTime              float64\n",
       "position                     float64\n",
       "qualityChangedCount          float64\n",
       "bufferingTime                float64\n",
       "avgDecodingTime              float64\n",
       "bufferedDuration             float64\n",
       "currentPosition              float64\n",
       "top_contentType              float64\n",
       "top_device                   float64\n",
       "top_networkErrors            float64\n",
       "top_mnc                      float64\n",
       "top_networkType              float64\n",
       "dtype: object"
      ]
     },
     "execution_count": 21,
     "metadata": {},
     "output_type": "execute_result"
    }
   ],
   "source": [
    "result.dtypes"
   ]
  },
  {
   "cell_type": "code",
   "execution_count": 22,
   "metadata": {},
   "outputs": [],
   "source": [
    "from sklearn import preprocessing # Min-Max Standardzation\n",
    "\n",
    "min_max_scaler = preprocessing.MinMaxScaler()\n",
    "x_data = min_max_scaler.fit_transform(x_data)\n",
    "\n",
    "\n",
    "training_idx = np.random.randint(y_data.shape[0], size=int(y_data.shape[0] * 0.8))\n",
    "test_idx = np.random.randint(y_data.shape[0], size=int(y_data.shape[0] * 0.2))\n",
    "\n",
    "x_train, x_test = x_data[training_idx,:], x_data[test_idx,:]\n"
   ]
  },
  {
   "cell_type": "code",
   "execution_count": 23,
   "metadata": {},
   "outputs": [
    {
     "data": {
      "text/plain": [
       "((148, 20), (37, 20))"
      ]
     },
     "execution_count": 23,
     "metadata": {},
     "output_type": "execute_result"
    }
   ],
   "source": [
    "y_train, y_test = y_data[training_idx,:], y_data[test_idx,:]\n",
    "\n",
    "x_train.shape, x_test.shape"
   ]
  },
  {
   "cell_type": "code",
   "execution_count": 24,
   "metadata": {},
   "outputs": [
    {
     "data": {
      "text/plain": [
       "DecisionTreeClassifier(class_weight=None, criterion='entropy', max_depth=11,\n",
       "            max_features=None, max_leaf_nodes=None,\n",
       "            min_impurity_decrease=0.0, min_impurity_split=None,\n",
       "            min_samples_leaf=1, min_samples_split=2,\n",
       "            min_weight_fraction_leaf=0.0, presort=False, random_state=None,\n",
       "            splitter='random')"
      ]
     },
     "execution_count": 24,
     "metadata": {},
     "output_type": "execute_result"
    }
   ],
   "source": [
    "from sklearn import tree\n",
    "from sklearn import metrics\n",
    "result_tree = tree.DecisionTreeClassifier(criterion='entropy', splitter='random', max_depth=11)\n",
    "result_tree.fit(x_train, y_train)"
   ]
  },
  {
   "cell_type": "code",
   "execution_count": 25,
   "metadata": {},
   "outputs": [
    {
     "name": "stdout",
     "output_type": "stream",
     "text": [
      "Accuracy: 0.676\n"
     ]
    }
   ],
   "source": [
    "y_pred_tr =result_tree.predict(x_test)\n",
    "print('Accuracy: %.3f' % metrics.accuracy_score(y_test, y_pred_tr))"
   ]
  },
  {
   "cell_type": "code",
   "execution_count": 26,
   "metadata": {},
   "outputs": [
    {
     "name": "stdout",
     "output_type": "stream",
     "text": [
      "              precision    recall  f1-score   support\n",
      "\n",
      "   -100874.0       0.00      0.00      0.00         1\n",
      "   -100870.0       0.00      0.00      0.00         1\n",
      "   -100702.0       0.82      0.88      0.85        16\n",
      "     -1004.0       1.00      0.60      0.75         5\n",
      "       -38.0       0.40      0.86      0.55         7\n",
      "         0.0       1.00      0.29      0.44         7\n",
      "\n",
      "   micro avg       0.68      0.68      0.68        37\n",
      "   macro avg       0.54      0.44      0.43        37\n",
      "weighted avg       0.76      0.68      0.66        37\n",
      "\n"
     ]
    },
    {
     "name": "stderr",
     "output_type": "stream",
     "text": [
      "/home/centos/anaconda3/envs/dev/lib/python3.5/site-packages/sklearn/metrics/classification.py:1143: UndefinedMetricWarning: Precision and F-score are ill-defined and being set to 0.0 in labels with no predicted samples.\n",
      "  'precision', 'predicted', average, warn_for)\n"
     ]
    }
   ],
   "source": [
    "print(metrics.classification_report(y_test, y_pred_tr))"
   ]
  },
  {
   "cell_type": "code",
   "execution_count": 27,
   "metadata": {},
   "outputs": [],
   "source": [
    "\n",
    "from sklearn.model_selection import cross_val_score\n",
    "from sklearn.datasets import make_blobs\n",
    "from sklearn.ensemble import RandomForestClassifier\n",
    "from sklearn.ensemble import ExtraTreesClassifier\n",
    "from sklearn.tree import DecisionTreeClassifier"
   ]
  },
  {
   "cell_type": "code",
   "execution_count": null,
   "metadata": {},
   "outputs": [],
   "source": [
    "np.save('x_train.npy', x_train)"
   ]
  },
  {
   "cell_type": "code",
   "execution_count": null,
   "metadata": {},
   "outputs": [],
   "source": [
    "np.save('x_test.npy', x_test)"
   ]
  },
  {
   "cell_type": "code",
   "execution_count": null,
   "metadata": {},
   "outputs": [],
   "source": [
    "np.save('y_train.npy', y_train)"
   ]
  },
  {
   "cell_type": "code",
   "execution_count": null,
   "metadata": {},
   "outputs": [],
   "source": [
    "np.save('y_test.npy', y_test)"
   ]
  },
  {
   "cell_type": "code",
   "execution_count": null,
   "metadata": {},
   "outputs": [],
   "source": [
    "x_data"
   ]
  },
  {
   "cell_type": "code",
   "execution_count": null,
   "metadata": {},
   "outputs": [],
   "source": [
    "result"
   ]
  },
  {
   "cell_type": "code",
   "execution_count": null,
   "metadata": {},
   "outputs": [],
   "source": [
    "type(y_data)"
   ]
  },
  {
   "cell_type": "code",
   "execution_count": null,
   "metadata": {},
   "outputs": [],
   "source": [
    "result.to_pickle('dataframe.pkl')"
   ]
  },
  {
   "cell_type": "code",
   "execution_count": 32,
   "metadata": {},
   "outputs": [
    {
     "name": "stdout",
     "output_type": "stream",
     "text": [
      "              precision    recall  f1-score   support\n",
      "\n",
      "   -100874.0       0.00      0.00      0.00         1\n",
      "   -100870.0       0.00      0.00      0.00         1\n",
      "   -100702.0       0.76      0.81      0.79        16\n",
      "     -1004.0       1.00      0.60      0.75         5\n",
      "       -38.0       0.33      0.57      0.42         7\n",
      "         0.0       1.00      0.71      0.83         7\n",
      "\n",
      "   micro avg       0.68      0.68      0.68        37\n",
      "   macro avg       0.52      0.45      0.47        37\n",
      "weighted avg       0.72      0.68      0.68        37\n",
      "\n",
      "Accuracy: 0.68\n"
     ]
    },
    {
     "name": "stderr",
     "output_type": "stream",
     "text": [
      "/home/centos/anaconda3/envs/dev/lib/python3.5/site-packages/ipykernel_launcher.py:3: DataConversionWarning: A column-vector y was passed when a 1d array was expected. Please change the shape of y to (n_samples,), for example using ravel().\n",
      "  This is separate from the ipykernel package so we can avoid doing imports until\n",
      "/home/centos/anaconda3/envs/dev/lib/python3.5/site-packages/sklearn/metrics/classification.py:1143: UndefinedMetricWarning: Precision and F-score are ill-defined and being set to 0.0 in labels with no predicted samples.\n",
      "  'precision', 'predicted', average, warn_for)\n"
     ]
    }
   ],
   "source": [
    "clf = RandomForestClassifier(n_estimators=100, max_depth=11,\n",
    "                             random_state=0)\n",
    "clf.fit(x_train, y_train)\n",
    "y_pred=clf.predict(x_test)\n",
    "print(metrics.classification_report(y_test, y_pred))\n",
    "print('Accuracy: %.2f' % metrics.accuracy_score(y_test, y_pred))"
   ]
  },
  {
   "cell_type": "code",
   "execution_count": null,
   "metadata": {},
   "outputs": [],
   "source": []
  }
 ],
 "metadata": {
  "kernelspec": {
   "display_name": "Python 3",
   "language": "python",
   "name": "python3"
  },
  "language_info": {
   "codemirror_mode": {
    "name": "ipython",
    "version": 3
   },
   "file_extension": ".py",
   "mimetype": "text/x-python",
   "name": "python",
   "nbconvert_exporter": "python",
   "pygments_lexer": "ipython3",
   "version": "3.5.0"
  }
 },
 "nbformat": 4,
 "nbformat_minor": 2
}
